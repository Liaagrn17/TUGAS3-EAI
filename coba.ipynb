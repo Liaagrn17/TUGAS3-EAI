{
 "cells": [
  {
   "cell_type": "code",
   "execution_count": 6,
   "metadata": {},
   "outputs": [],
   "source": [
    "import graphene"
   ]
  },
  {
   "cell_type": "code",
   "execution_count": 51,
   "metadata": {},
   "outputs": [],
   "source": [
    "class Book(graphene.ObjectType):\n",
    "    id = graphene.ID()\n",
    "    title = graphene.String()\n",
    "\n",
    "class Query(graphene.ObjectType):\n",
    "    book = graphene.Field(Book)\n",
    "    books = graphene.List(Book)\n",
    "\n",
    "    def resolve_book(self, info):\n",
    "        return Book(id=\"2\", title=\"Buku 2\")\n",
    "    \n",
    "    def resolve_books(self,info):\n",
    "        return [\n",
    "            Book(id=\"1\", title=\"Buku 1\"),\n",
    "            Book(id=\"2\", title=\"Buku 2\"),\n",
    "            Book(id=\"3\", title=\"Buku 3\"),\n",
    "            Book(id=\"4\", title=\"Buku 4\"),\n",
    "            Book(id=\"5\", title=\"Buku 5\"),\n",
    "            Book(id=\"6\", title=\"Buku 6\")\n",
    "        ]\n",
    "    \n",
    "schema = graphene.Schema(query=Query)"
   ]
  },
  {
   "cell_type": "code",
   "execution_count": 8,
   "metadata": {},
   "outputs": [
    {
     "name": "stdout",
     "output_type": "stream",
     "text": [
      "{'book': {'id': '2', 'title': 'Buku 2'}}\n"
     ]
    }
   ],
   "source": [
    "a = '''\n",
    "{\n",
    "    book{\n",
    "        id\n",
    "        title  \n",
    "    }\n",
    "}\n",
    "'''\n",
    "result = schema.execute(a)\n",
    "print(result.data)"
   ]
  },
  {
   "cell_type": "code",
   "execution_count": 9,
   "metadata": {},
   "outputs": [
    {
     "name": "stdout",
     "output_type": "stream",
     "text": [
      "{'books': [{'title': 'Buku 1'}, {'title': 'Buku 2'}, {'title': 'Buku 3'}, {'title': 'Buku 4'}, {'title': 'Buku 5'}, {'title': 'Buku 6'}]}\n"
     ]
    }
   ],
   "source": [
    "a = '''\n",
    "{\n",
    "    books{\n",
    "        title\n",
    "    }\n",
    "}\n",
    "'''\n",
    "result = schema.execute(a)\n",
    "print(result.data)"
   ]
  },
  {
   "cell_type": "markdown",
   "metadata": {},
   "source": [
    "### Update Data"
   ]
  },
  {
   "cell_type": "code",
   "execution_count": 10,
   "metadata": {},
   "outputs": [],
   "source": [
    "data = [\n",
    "    {\"id\":\"1\", \"title\":\"buku 1\"},\n",
    "    {\"id\":\"2\", \"title\":\"buku 2\"},\n",
    "    {\"id\":\"3\", \"title\":\"buku 3\"},\n",
    "    {\"id\":\"4\", \"title\":\"buku 4\"},\n",
    "    {\"id\":\"5\", \"title\":\"buku 5\"},\n",
    "    {\"id\":\"6\", \"title\":\"buku 6\"}\n",
    "]"
   ]
  },
  {
   "cell_type": "code",
   "execution_count": 11,
   "metadata": {},
   "outputs": [
    {
     "name": "stdout",
     "output_type": "stream",
     "text": [
      "{'id': '1', 'title': 'buku 1'}\n",
      "{'id': '2', 'title': 'buku 2'}\n",
      "{'id': '3', 'title': 'buku 3'}\n",
      "{'id': '4', 'title': 'buku 4'}\n",
      "{'id': '5', 'title': 'buku 5'}\n",
      "{'id': '6', 'title': 'buku 6'}\n"
     ]
    }
   ],
   "source": [
    "for i in data:\n",
    "    print(i)"
   ]
  },
  {
   "cell_type": "code",
   "execution_count": 52,
   "metadata": {},
   "outputs": [
    {
     "data": {
      "text/plain": [
       "'2'"
      ]
     },
     "execution_count": 52,
     "metadata": {},
     "output_type": "execute_result"
    }
   ],
   "source": [
    "data[1]['id']"
   ]
  },
  {
   "cell_type": "code",
   "execution_count": 20,
   "metadata": {},
   "outputs": [],
   "source": [
    "import json"
   ]
  },
  {
   "cell_type": "code",
   "execution_count": 58,
   "metadata": {},
   "outputs": [
    {
     "name": "stdout",
     "output_type": "stream",
     "text": [
      "{\n",
      "   \"books\": [\n",
      "      {\n",
      "         \"id\": \"1\",\n",
      "         \"title\": \"buku 1\"\n",
      "      },\n",
      "      {\n",
      "         \"id\": \"2\",\n",
      "         \"title\": \"buku 2\"\n",
      "      },\n",
      "      {\n",
      "         \"id\": \"3\",\n",
      "         \"title\": \"buku 3\"\n",
      "      },\n",
      "      {\n",
      "         \"id\": \"4\",\n",
      "         \"title\": \"buku 4\"\n",
      "      },\n",
      "      {\n",
      "         \"id\": \"5\",\n",
      "         \"title\": \"buku 5\"\n",
      "      },\n",
      "      {\n",
      "         \"id\": \"6\",\n",
      "         \"title\": \"buku 6\"\n",
      "      }\n",
      "   ],\n",
      "   \"bookById\": {\n",
      "      \"id\": \"3\",\n",
      "      \"title\": \"buku 3\"\n",
      "   },\n",
      "   \"bookByTitle\": {\n",
      "      \"id\": \"6\",\n",
      "      \"title\": \"buku 6\"\n",
      "   }\n",
      "}\n"
     ]
    }
   ],
   "source": [
    "class Book(graphene.ObjectType):\n",
    "    id = graphene.ID()\n",
    "    title = graphene.String()\n",
    "\n",
    "class Query(graphene.ObjectType):\n",
    "    book = graphene.Field(Book)\n",
    "    books = graphene.List(Book)\n",
    "    book_by_id = graphene.Field(Book, id=graphene.ID())\n",
    "    book_by_title = graphene.Field(Book, title=graphene.String())\n",
    "\n",
    "    def resolve_book(self, info):\n",
    "        return Book(id=data[1]['id'], title=data[1]['title'])\n",
    "    \n",
    "    def resolve_books(self,info):\n",
    "        return [Book(id=i['id'], title=i['title']) for i in data]\n",
    "    \n",
    "    def resolve_book_by_id(self, info, id):\n",
    "         for i in data:\n",
    "             if i[\"id\"] == id:\n",
    "                 return Book(id=i[\"id\"], title=i['title'])\n",
    "             \n",
    "    def resolve_book_by_title(self, info, title):\n",
    "         for i in data:\n",
    "             if i[\"title\"] == title:\n",
    "                 return Book(id=i[\"id\"], title=i['title'])\n",
    "        \n",
    "\n",
    "schema = graphene.Schema(query=Query)\n",
    "\n",
    "a = '''\n",
    "{\n",
    "    books {\n",
    "        id\n",
    "        title\n",
    "    }\n",
    "\n",
    "    bookById(id: \"3\") {\n",
    "        id\n",
    "        title\n",
    "    }\n",
    "\n",
    "     bookByTitle(title: \"buku 6\") {\n",
    "        id\n",
    "        title\n",
    "    }\n",
    "}\n",
    "'''\n",
    "\n",
    "result = schema.execute(a)\n",
    "output = json.dumps(result.data,  indent=3)\n",
    "print(output)"
   ]
  }
 ],
 "metadata": {
  "kernelspec": {
   "display_name": "graphql",
   "language": "python",
   "name": "python3"
  },
  "language_info": {
   "codemirror_mode": {
    "name": "ipython",
    "version": 3
   },
   "file_extension": ".py",
   "mimetype": "text/x-python",
   "name": "python",
   "nbconvert_exporter": "python",
   "pygments_lexer": "ipython3",
   "version": "3.12.2"
  }
 },
 "nbformat": 4,
 "nbformat_minor": 2
}
